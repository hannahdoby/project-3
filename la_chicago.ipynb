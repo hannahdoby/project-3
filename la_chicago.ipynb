{
 "cells": [
  {
   "cell_type": "code",
   "execution_count": 19,
   "metadata": {},
   "outputs": [
    {
     "ename": "ImportError",
     "evalue": "cannot import name 'api_key' from 'config' (/Users/hannahdoby/Desktop/bootcamp/project-3/config.py)",
     "output_type": "error",
     "traceback": [
      "\u001b[0;31m---------------------------------------------------------------------------\u001b[0m",
      "\u001b[0;31mImportError\u001b[0m                               Traceback (most recent call last)",
      "\u001b[1;32m/Users/hannahdoby/Desktop/bootcamp/project-3/la_chicago.ipynb Cell 1\u001b[0m line \u001b[0;36m5\n\u001b[1;32m      <a href='vscode-notebook-cell:/Users/hannahdoby/Desktop/bootcamp/project-3/la_chicago.ipynb#W0sZmlsZQ%3D%3D?line=1'>2</a>\u001b[0m \u001b[39mimport\u001b[39;00m \u001b[39mpprint\u001b[39;00m\n\u001b[1;32m      <a href='vscode-notebook-cell:/Users/hannahdoby/Desktop/bootcamp/project-3/la_chicago.ipynb#W0sZmlsZQ%3D%3D?line=2'>3</a>\u001b[0m \u001b[39mimport\u001b[39;00m \u001b[39mrequests\u001b[39;00m\n\u001b[0;32m----> <a href='vscode-notebook-cell:/Users/hannahdoby/Desktop/bootcamp/project-3/la_chicago.ipynb#W0sZmlsZQ%3D%3D?line=4'>5</a>\u001b[0m \u001b[39mfrom\u001b[39;00m \u001b[39mconfig\u001b[39;00m \u001b[39mimport\u001b[39;00m api_key\n\u001b[1;32m      <a href='vscode-notebook-cell:/Users/hannahdoby/Desktop/bootcamp/project-3/la_chicago.ipynb#W0sZmlsZQ%3D%3D?line=6'>7</a>\u001b[0m url \u001b[39m=\u001b[39m \u001b[39m\"\u001b[39m\u001b[39mhttps://api.yelp.com/v3/businesses/search?location=\u001b[39m\u001b[39m\"\u001b[39m\n\u001b[1;32m      <a href='vscode-notebook-cell:/Users/hannahdoby/Desktop/bootcamp/project-3/la_chicago.ipynb#W0sZmlsZQ%3D%3D?line=7'>8</a>\u001b[0m headers \u001b[39m=\u001b[39m {\n\u001b[1;32m      <a href='vscode-notebook-cell:/Users/hannahdoby/Desktop/bootcamp/project-3/la_chicago.ipynb#W0sZmlsZQ%3D%3D?line=8'>9</a>\u001b[0m     \u001b[39m\"\u001b[39m\u001b[39maccept\u001b[39m\u001b[39m\"\u001b[39m: \u001b[39m\"\u001b[39m\u001b[39mapplication/json\u001b[39m\u001b[39m\"\u001b[39m,\n\u001b[1;32m     <a href='vscode-notebook-cell:/Users/hannahdoby/Desktop/bootcamp/project-3/la_chicago.ipynb#W0sZmlsZQ%3D%3D?line=9'>10</a>\u001b[0m     \u001b[39m\"\u001b[39m\u001b[39mAuthorization\u001b[39m\u001b[39m\"\u001b[39m: \u001b[39mf\u001b[39m\u001b[39m'\u001b[39m\u001b[39mBearer \u001b[39m\u001b[39m{\u001b[39;00mapi_key\u001b[39m}\u001b[39;00m\u001b[39m'\u001b[39m\n\u001b[1;32m     <a href='vscode-notebook-cell:/Users/hannahdoby/Desktop/bootcamp/project-3/la_chicago.ipynb#W0sZmlsZQ%3D%3D?line=10'>11</a>\u001b[0m }\n",
      "\u001b[0;31mImportError\u001b[0m: cannot import name 'api_key' from 'config' (/Users/hannahdoby/Desktop/bootcamp/project-3/config.py)"
     ]
    }
   ],
   "source": [
    "import json\n",
    "import pprint\n",
    "import requests\n",
    "\n",
    "from config import api_key\n",
    "\n",
    "url = \"https://api.yelp.com/v3/businesses/search?location=\"\n",
    "headers = {\n",
    "    \"accept\": \"application/json\",\n",
    "    \"Authorization\": f'Bearer {api_key}'\n",
    "}\n",
    "\n",
    "locations= [\"LosAngeles\",\"Chicago\"]\n",
    "interests = [\"hotels\",\"food\"]\n",
    "\n",
    "data= {}\n",
    "\n",
    "# Loop through the locations and interests to pull the data from the Yelp API\n",
    "for location in locations:\n",
    "    i = 0\n",
    "    term = interests[i]\n",
    "    response = requests.get(f\"{url}{location}&term={term}&sort_by=best_match&limit=40\", headers=headers)\n",
    "    locals()[f\"{location}_{term}\"] = json.loads(response.text)\n",
    "    i += 1\n",
    "    term = interests[i]\n",
    "    response = requests.get(f\"{url}{location}&term={term}&sort_by=best_match&limit=40\", headers=headers)\n",
    "    locals()[f\"{location}_{term}\"] = json.loads(response.text)\n",
    "\n",
    "#Define locals variables\n",
    "LosAngeles_food = locals()[\"LosAngeles_food\"]\n",
    "LosAngeles_hotels = locals()[\"LosAngeles_hotels\"]\n",
    "Chicago_food = locals()[\"Chicago_food\"]\n",
    "Chicago_hotels = locals()[\"Chicago_hotels\"]\n",
    "\n",
    "\n",
    "#Pretty print varables\n",
    "pprint.pprint(LosAngeles_food)\n",
    "pprint.pprint(LosAngeles_hotels)\n",
    "pprint.pprint(Chicago_food)\n",
    "pprint.pprint(Chicago_hotels)\n",
    "\n"
   ]
  },
  {
   "cell_type": "code",
   "execution_count": 11,
   "metadata": {},
   "outputs": [],
   "source": [
    "import os\n",
    "\n",
    "#Make file path for JSON Foler \n",
    "folder_name = 'JSON'\n",
    "\n",
    "# Construct the file path for LA Food\n",
    "json_file_path = os.path.join(folder_name, 'LosAngeles_food.json')\n",
    "\n",
    "# Export to JSON\n",
    "with open(json_file_path, 'w') as outfile:\n",
    "    json.dump(LosAngeles_food, outfile)\n",
    "\n",
    "\n",
    "# Construct the file path for LA Hotels\n",
    "json_file_path = os.path.join(folder_name, 'LosAngeles_hotels.json')\n",
    "\n",
    "# Export to JSON\n",
    "with open(json_file_path, 'w') as outfile:\n",
    "    json.dump(LosAngeles_hotels, outfile)\n",
    "\n",
    "\n",
    "# Construct the file path Chicago Food\n",
    "json_file_path = os.path.join(folder_name, 'Chicago_food.json')\n",
    "\n",
    "# Export to JSON\n",
    "with open(json_file_path, 'w') as outfile:\n",
    "    json.dump(Chicago_food, outfile)\n",
    "\n",
    "# Construct the file path Chicago Hotels\n",
    "json_file_path = os.path.join(folder_name, 'Chicago_hotels.json')\n",
    "\n",
    "# Export to JSON\n",
    "with open(json_file_path, 'w') as outfile:\n",
    "    json.dump(Chicago_hotels, outfile)\n",
    "\n",
    "\n"
   ]
  },
  {
   "cell_type": "code",
   "execution_count": 12,
   "metadata": {},
   "outputs": [
    {
     "ename": "FileNotFoundError",
     "evalue": "[Errno 2] No such file or directory: 'data/LosAngeles_food.json'",
     "output_type": "error",
     "traceback": [
      "\u001b[0;31m---------------------------------------------------------------------------\u001b[0m",
      "\u001b[0;31mFileNotFoundError\u001b[0m                         Traceback (most recent call last)",
      "\u001b[1;32m/Users/hannahdoby/Desktop/bootcamp/project-3/la_chicago.ipynb Cell 3\u001b[0m line \u001b[0;36m2\n\u001b[1;32m      <a href='vscode-notebook-cell:/Users/hannahdoby/Desktop/bootcamp/project-3/la_chicago.ipynb#W2sZmlsZQ%3D%3D?line=0'>1</a>\u001b[0m \u001b[39m# Load JSON data from the file\u001b[39;00m\n\u001b[0;32m----> <a href='vscode-notebook-cell:/Users/hannahdoby/Desktop/bootcamp/project-3/la_chicago.ipynb#W2sZmlsZQ%3D%3D?line=1'>2</a>\u001b[0m \u001b[39mwith\u001b[39;00m \u001b[39mopen\u001b[39;49m(\u001b[39m'\u001b[39;49m\u001b[39mdata/LosAngeles_food.json\u001b[39;49m\u001b[39m'\u001b[39;49m, \u001b[39m'\u001b[39;49m\u001b[39mr\u001b[39;49m\u001b[39m'\u001b[39;49m) \u001b[39mas\u001b[39;00m json_file:\n\u001b[1;32m      <a href='vscode-notebook-cell:/Users/hannahdoby/Desktop/bootcamp/project-3/la_chicago.ipynb#W2sZmlsZQ%3D%3D?line=2'>3</a>\u001b[0m     data \u001b[39m=\u001b[39m json\u001b[39m.\u001b[39mload(json_file)\n\u001b[1;32m      <a href='vscode-notebook-cell:/Users/hannahdoby/Desktop/bootcamp/project-3/la_chicago.ipynb#W2sZmlsZQ%3D%3D?line=4'>5</a>\u001b[0m \u001b[39m# Print the loaded data to check its structure\u001b[39;00m\n",
      "File \u001b[0;32m~/anaconda3/envs/dev/lib/python3.10/site-packages/IPython/core/interactiveshell.py:284\u001b[0m, in \u001b[0;36m_modified_open\u001b[0;34m(file, *args, **kwargs)\u001b[0m\n\u001b[1;32m    277\u001b[0m \u001b[39mif\u001b[39;00m file \u001b[39min\u001b[39;00m {\u001b[39m0\u001b[39m, \u001b[39m1\u001b[39m, \u001b[39m2\u001b[39m}:\n\u001b[1;32m    278\u001b[0m     \u001b[39mraise\u001b[39;00m \u001b[39mValueError\u001b[39;00m(\n\u001b[1;32m    279\u001b[0m         \u001b[39mf\u001b[39m\u001b[39m\"\u001b[39m\u001b[39mIPython won\u001b[39m\u001b[39m'\u001b[39m\u001b[39mt let you open fd=\u001b[39m\u001b[39m{\u001b[39;00mfile\u001b[39m}\u001b[39;00m\u001b[39m by default \u001b[39m\u001b[39m\"\u001b[39m\n\u001b[1;32m    280\u001b[0m         \u001b[39m\"\u001b[39m\u001b[39mas it is likely to crash IPython. If you know what you are doing, \u001b[39m\u001b[39m\"\u001b[39m\n\u001b[1;32m    281\u001b[0m         \u001b[39m\"\u001b[39m\u001b[39myou can use builtins\u001b[39m\u001b[39m'\u001b[39m\u001b[39m open.\u001b[39m\u001b[39m\"\u001b[39m\n\u001b[1;32m    282\u001b[0m     )\n\u001b[0;32m--> 284\u001b[0m \u001b[39mreturn\u001b[39;00m io_open(file, \u001b[39m*\u001b[39;49margs, \u001b[39m*\u001b[39;49m\u001b[39m*\u001b[39;49mkwargs)\n",
      "\u001b[0;31mFileNotFoundError\u001b[0m: [Errno 2] No such file or directory: 'data/LosAngeles_food.json'"
     ]
    }
   ],
   "source": [
    "# Load JSON data from the file\n",
    "with open('data/LosAngeles_food.json', 'r') as json_file:\n",
    "    data = json.load(json_file)\n",
    "\n",
    "# Print the loaded data to check its structure\n",
    "print(json.dumps(data, indent=4))\n",
    "\n",
    "# Attempt to access the 'businesses' key\n",
    "try:\n",
    "    businesses = data['businesses']\n",
    "    for business in businesses:\n",
    "        print(business['name'])\n",
    "except KeyError:\n",
    "    print(\"The 'businesses' key does not exist in the loaded data.\")"
   ]
  }
 ],
 "metadata": {
  "kernelspec": {
   "display_name": "dev",
   "language": "python",
   "name": "python3"
  },
  "language_info": {
   "codemirror_mode": {
    "name": "ipython",
    "version": 3
   },
   "file_extension": ".py",
   "mimetype": "text/x-python",
   "name": "python",
   "nbconvert_exporter": "python",
   "pygments_lexer": "ipython3",
   "version": "3.10.11"
  },
  "orig_nbformat": 4
 },
 "nbformat": 4,
 "nbformat_minor": 2
}
